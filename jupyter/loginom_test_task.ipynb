{
 "cells": [
  {
   "cell_type": "markdown",
   "id": "d56d0878",
   "metadata": {},
   "source": [
    "# Загрузка необходимых библиотек"
   ]
  },
  {
   "cell_type": "code",
   "execution_count": 1,
   "id": "9981a01d",
   "metadata": {},
   "outputs": [],
   "source": [
    "import pandas as pd\n",
    "import matplotlib.pyplot as plt \n",
    "import seaborn as sns"
   ]
  },
  {
   "cell_type": "markdown",
   "id": "123be1b9",
   "metadata": {},
   "source": [
    "# Исследование данных"
   ]
  },
  {
   "cell_type": "code",
   "execution_count": 2,
   "id": "51fd95c6",
   "metadata": {},
   "outputs": [],
   "source": [
    "churn_data = pd.read_csv('../data/churn.txt', encoding='Cp1251')"
   ]
  },
  {
   "cell_type": "code",
   "execution_count": 3,
   "id": "f2908eb8",
   "metadata": {},
   "outputs": [
    {
     "data": {
      "text/html": [
       "<div>\n",
       "<style scoped>\n",
       "    .dataframe tbody tr th:only-of-type {\n",
       "        vertical-align: middle;\n",
       "    }\n",
       "\n",
       "    .dataframe tbody tr th {\n",
       "        vertical-align: top;\n",
       "    }\n",
       "\n",
       "    .dataframe thead th {\n",
       "        text-align: right;\n",
       "    }\n",
       "</style>\n",
       "<table border=\"1\" class=\"dataframe\">\n",
       "  <thead>\n",
       "    <tr style=\"text-align: right;\">\n",
       "      <th></th>\n",
       "      <th>Штат</th>\n",
       "      <th>Длина счета</th>\n",
       "      <th>Код зоны</th>\n",
       "      <th>Номер телефона</th>\n",
       "      <th>Услуга международных звонков</th>\n",
       "      <th>Услуга VMail</th>\n",
       "      <th>Количество VMail</th>\n",
       "      <th>Дневные минуты</th>\n",
       "      <th>Дневные звонки</th>\n",
       "      <th>Дневная оплата</th>\n",
       "      <th>...</th>\n",
       "      <th>Вечерние звонки</th>\n",
       "      <th>Вечерняя оплата</th>\n",
       "      <th>Ночные минуты</th>\n",
       "      <th>Ночные звонки</th>\n",
       "      <th>Ночная оплата</th>\n",
       "      <th>Международные минуты</th>\n",
       "      <th>Международные звонки</th>\n",
       "      <th>Международная оплата</th>\n",
       "      <th>Обращений в СЦ</th>\n",
       "      <th>Уход</th>\n",
       "    </tr>\n",
       "  </thead>\n",
       "  <tbody>\n",
       "    <tr>\n",
       "      <th>0</th>\n",
       "      <td>KS</td>\n",
       "      <td>128</td>\n",
       "      <td>415</td>\n",
       "      <td>382-4657</td>\n",
       "      <td>False</td>\n",
       "      <td>True</td>\n",
       "      <td>25</td>\n",
       "      <td>265.1</td>\n",
       "      <td>110</td>\n",
       "      <td>45.07</td>\n",
       "      <td>...</td>\n",
       "      <td>99</td>\n",
       "      <td>16.78</td>\n",
       "      <td>244.7</td>\n",
       "      <td>91</td>\n",
       "      <td>11.01</td>\n",
       "      <td>10.0</td>\n",
       "      <td>3</td>\n",
       "      <td>2.70</td>\n",
       "      <td>1</td>\n",
       "      <td>False</td>\n",
       "    </tr>\n",
       "    <tr>\n",
       "      <th>1</th>\n",
       "      <td>OH</td>\n",
       "      <td>107</td>\n",
       "      <td>415</td>\n",
       "      <td>371-7191</td>\n",
       "      <td>False</td>\n",
       "      <td>True</td>\n",
       "      <td>26</td>\n",
       "      <td>161.6</td>\n",
       "      <td>123</td>\n",
       "      <td>27.47</td>\n",
       "      <td>...</td>\n",
       "      <td>103</td>\n",
       "      <td>16.62</td>\n",
       "      <td>254.4</td>\n",
       "      <td>103</td>\n",
       "      <td>11.45</td>\n",
       "      <td>13.7</td>\n",
       "      <td>3</td>\n",
       "      <td>3.70</td>\n",
       "      <td>1</td>\n",
       "      <td>False</td>\n",
       "    </tr>\n",
       "    <tr>\n",
       "      <th>2</th>\n",
       "      <td>NJ</td>\n",
       "      <td>137</td>\n",
       "      <td>415</td>\n",
       "      <td>358-1921</td>\n",
       "      <td>False</td>\n",
       "      <td>False</td>\n",
       "      <td>0</td>\n",
       "      <td>243.4</td>\n",
       "      <td>114</td>\n",
       "      <td>41.38</td>\n",
       "      <td>...</td>\n",
       "      <td>110</td>\n",
       "      <td>10.30</td>\n",
       "      <td>162.6</td>\n",
       "      <td>104</td>\n",
       "      <td>7.32</td>\n",
       "      <td>12.2</td>\n",
       "      <td>5</td>\n",
       "      <td>3.29</td>\n",
       "      <td>0</td>\n",
       "      <td>False</td>\n",
       "    </tr>\n",
       "    <tr>\n",
       "      <th>3</th>\n",
       "      <td>OH</td>\n",
       "      <td>84</td>\n",
       "      <td>408</td>\n",
       "      <td>375-9999</td>\n",
       "      <td>True</td>\n",
       "      <td>False</td>\n",
       "      <td>0</td>\n",
       "      <td>299.4</td>\n",
       "      <td>71</td>\n",
       "      <td>50.90</td>\n",
       "      <td>...</td>\n",
       "      <td>88</td>\n",
       "      <td>5.26</td>\n",
       "      <td>196.9</td>\n",
       "      <td>89</td>\n",
       "      <td>8.86</td>\n",
       "      <td>6.6</td>\n",
       "      <td>7</td>\n",
       "      <td>1.78</td>\n",
       "      <td>2</td>\n",
       "      <td>False</td>\n",
       "    </tr>\n",
       "    <tr>\n",
       "      <th>4</th>\n",
       "      <td>OK</td>\n",
       "      <td>75</td>\n",
       "      <td>415</td>\n",
       "      <td>330-6626</td>\n",
       "      <td>True</td>\n",
       "      <td>False</td>\n",
       "      <td>0</td>\n",
       "      <td>166.7</td>\n",
       "      <td>113</td>\n",
       "      <td>28.34</td>\n",
       "      <td>...</td>\n",
       "      <td>122</td>\n",
       "      <td>12.61</td>\n",
       "      <td>186.9</td>\n",
       "      <td>121</td>\n",
       "      <td>8.41</td>\n",
       "      <td>10.1</td>\n",
       "      <td>3</td>\n",
       "      <td>2.73</td>\n",
       "      <td>3</td>\n",
       "      <td>False</td>\n",
       "    </tr>\n",
       "  </tbody>\n",
       "</table>\n",
       "<p>5 rows × 21 columns</p>\n",
       "</div>"
      ],
      "text/plain": [
       "  Штат  Длина счета  Код зоны Номер телефона  Услуга международных звонков  \\\n",
       "0   KS          128       415       382-4657                         False   \n",
       "1   OH          107       415       371-7191                         False   \n",
       "2   NJ          137       415       358-1921                         False   \n",
       "3   OH           84       408       375-9999                          True   \n",
       "4   OK           75       415       330-6626                          True   \n",
       "\n",
       "   Услуга VMail  Количество VMail  Дневные минуты  Дневные звонки  \\\n",
       "0          True                25           265.1             110   \n",
       "1          True                26           161.6             123   \n",
       "2         False                 0           243.4             114   \n",
       "3         False                 0           299.4              71   \n",
       "4         False                 0           166.7             113   \n",
       "\n",
       "   Дневная оплата  ...  Вечерние звонки  Вечерняя оплата  Ночные минуты  \\\n",
       "0           45.07  ...               99            16.78          244.7   \n",
       "1           27.47  ...              103            16.62          254.4   \n",
       "2           41.38  ...              110            10.30          162.6   \n",
       "3           50.90  ...               88             5.26          196.9   \n",
       "4           28.34  ...              122            12.61          186.9   \n",
       "\n",
       "   Ночные звонки  Ночная оплата  Международные минуты  Международные звонки  \\\n",
       "0             91          11.01                  10.0                     3   \n",
       "1            103          11.45                  13.7                     3   \n",
       "2            104           7.32                  12.2                     5   \n",
       "3             89           8.86                   6.6                     7   \n",
       "4            121           8.41                  10.1                     3   \n",
       "\n",
       "   Международная оплата  Обращений в СЦ   Уход  \n",
       "0                  2.70               1  False  \n",
       "1                  3.70               1  False  \n",
       "2                  3.29               0  False  \n",
       "3                  1.78               2  False  \n",
       "4                  2.73               3  False  \n",
       "\n",
       "[5 rows x 21 columns]"
      ]
     },
     "execution_count": 3,
     "metadata": {},
     "output_type": "execute_result"
    }
   ],
   "source": [
    "churn_data.head()"
   ]
  },
  {
   "cell_type": "code",
   "execution_count": 4,
   "id": "7331abb0",
   "metadata": {},
   "outputs": [
    {
     "data": {
      "text/plain": [
       "(3333, 21)"
      ]
     },
     "execution_count": 4,
     "metadata": {},
     "output_type": "execute_result"
    }
   ],
   "source": [
    "churn_data.shape"
   ]
  },
  {
   "cell_type": "markdown",
   "id": "1e64fd85",
   "metadata": {},
   "source": [
    "Посмотрим типы данных столбцов"
   ]
  },
  {
   "cell_type": "code",
   "execution_count": 5,
   "id": "5aaba437",
   "metadata": {},
   "outputs": [
    {
     "name": "stdout",
     "output_type": "stream",
     "text": [
      "<class 'pandas.core.frame.DataFrame'>\n",
      "RangeIndex: 3333 entries, 0 to 3332\n",
      "Data columns (total 21 columns):\n",
      " #   Column                        Non-Null Count  Dtype  \n",
      "---  ------                        --------------  -----  \n",
      " 0   Штат                          3333 non-null   object \n",
      " 1   Длина счета                   3333 non-null   int64  \n",
      " 2   Код зоны                      3333 non-null   int64  \n",
      " 3   Номер телефона                3333 non-null   object \n",
      " 4   Услуга международных звонков  3333 non-null   bool   \n",
      " 5   Услуга VMail                  3333 non-null   bool   \n",
      " 6   Количество VMail              3333 non-null   int64  \n",
      " 7   Дневные минуты                3333 non-null   float64\n",
      " 8   Дневные звонки                3333 non-null   int64  \n",
      " 9   Дневная оплата                3333 non-null   float64\n",
      " 10  Вечерние минуты               3333 non-null   float64\n",
      " 11  Вечерние звонки               3333 non-null   int64  \n",
      " 12  Вечерняя оплата               3333 non-null   float64\n",
      " 13  Ночные минуты                 3333 non-null   float64\n",
      " 14  Ночные звонки                 3333 non-null   int64  \n",
      " 15  Ночная оплата                 3333 non-null   float64\n",
      " 16  Международные минуты          3333 non-null   float64\n",
      " 17  Международные звонки          3333 non-null   int64  \n",
      " 18  Международная оплата          3333 non-null   float64\n",
      " 19  Обращений в СЦ                3333 non-null   int64  \n",
      " 20  Уход                          3333 non-null   bool   \n",
      "dtypes: bool(3), float64(8), int64(8), object(2)\n",
      "memory usage: 478.6+ KB\n"
     ]
    }
   ],
   "source": [
    "churn_data.info()"
   ]
  },
  {
   "cell_type": "markdown",
   "id": "84dae38b",
   "metadata": {},
   "source": [
    "Посмотрим, как много пропусков в данных мы имеем"
   ]
  },
  {
   "cell_type": "code",
   "execution_count": 6,
   "id": "209e560a",
   "metadata": {},
   "outputs": [
    {
     "data": {
      "text/plain": [
       "Штат                            0\n",
       "Длина счета                     0\n",
       "Код зоны                        0\n",
       "Номер телефона                  0\n",
       "Услуга международных звонков    0\n",
       "Услуга VMail                    0\n",
       "Количество VMail                0\n",
       "Дневные минуты                  0\n",
       "Дневные звонки                  0\n",
       "Дневная оплата                  0\n",
       "Вечерние минуты                 0\n",
       "Вечерние звонки                 0\n",
       "Вечерняя оплата                 0\n",
       "Ночные минуты                   0\n",
       "Ночные звонки                   0\n",
       "Ночная оплата                   0\n",
       "Международные минуты            0\n",
       "Международные звонки            0\n",
       "Международная оплата            0\n",
       "Обращений в СЦ                  0\n",
       "Уход                            0\n",
       "dtype: int64"
      ]
     },
     "execution_count": 6,
     "metadata": {},
     "output_type": "execute_result"
    }
   ],
   "source": [
    "churn_data.isna().sum()"
   ]
  },
  {
   "cell_type": "markdown",
   "id": "9a3decf0",
   "metadata": {},
   "source": [
    "Let's see the churn distribution in the data"
   ]
  },
  {
   "cell_type": "code",
   "execution_count": 7,
   "id": "269544f5",
   "metadata": {},
   "outputs": [
    {
     "data": {
      "text/plain": [
       "Уход\n",
       "False    2850\n",
       "True      483\n",
       "dtype: int64"
      ]
     },
     "execution_count": 7,
     "metadata": {},
     "output_type": "execute_result"
    }
   ],
   "source": [
    "churn_data.groupby(\"Уход\").size()\n"
   ]
  },
  {
   "cell_type": "markdown",
   "id": "e7731750",
   "metadata": {},
   "source": [
    "We see that our data is imbalanced so we have to take into consideration while training a model"
   ]
  },
  {
   "cell_type": "code",
   "execution_count": 8,
   "id": "59e87759",
   "metadata": {},
   "outputs": [
    {
     "data": {
      "image/png": "[encoded data removed]",
      "text/plain": [
       "<Figure size 432x288 with 1 Axes>"
      ]
     },
     "metadata": {},
     "output_type": "display_data"
    }
   ],
   "source": [
    "labels = [\"Остались\", \"Ушли\"]\n",
    "values = churn_data.groupby(\"Уход\").size().values\n",
    "\n",
    "fig, ax = plt.subplots()\n",
    "ax.pie(values, labels=labels,  autopct='%1.2f%%')\n",
    "plt.show()"
   ]
  },
  {
   "cell_type": "markdown",
   "id": "4c136e47",
   "metadata": {},
   "source": [
    "Let's see how many states and code zone we have"
   ]
  },
  {
   "cell_type": "code",
   "execution_count": 9,
   "id": "4e592425",
   "metadata": {},
   "outputs": [
    {
     "data": {
      "text/plain": [
       "51"
      ]
     },
     "execution_count": 9,
     "metadata": {},
     "output_type": "execute_result"
    }
   ],
   "source": [
    "churn_data[\"Штат\"].nunique()"
   ]
  },
  {
   "cell_type": "code",
   "execution_count": 10,
   "id": "620128b3",
   "metadata": {},
   "outputs": [
    {
     "data": {
      "text/plain": [
       "3"
      ]
     },
     "execution_count": 10,
     "metadata": {},
     "output_type": "execute_result"
    }
   ],
   "source": [
    "churn_data[\"Код зоны\"].nunique()"
   ]
  },
  {
   "cell_type": "code",
   "execution_count": 11,
   "id": "67e589fb",
   "metadata": {},
   "outputs": [
    {
     "data": {
      "text/plain": [
       "Код зоны  Уход \n",
       "408       False     716\n",
       "          True      122\n",
       "415       False    1419\n",
       "          True      236\n",
       "510       False     715\n",
       "          True      125\n",
       "dtype: int64"
      ]
     },
     "execution_count": 11,
     "metadata": {},
     "output_type": "execute_result"
    }
   ],
   "source": [
    "churn_data.groupby([\"Код зоны\", \"Уход\"]).size()"
   ]
  },
  {
   "cell_type": "code",
   "execution_count": 12,
   "id": "75781792",
   "metadata": {},
   "outputs": [
    {
     "data": {
      "image/png": "[encoded data removed]",
      "text/plain": [
       "<Figure size 1152x360 with 3 Axes>"
      ]
     },
     "metadata": {
      "needs_background": "light"
     },
     "output_type": "display_data"
    }
   ],
   "source": [
    "sns.catplot(x=\"Уход\", col=\"Код зоны\", col_wrap=4,\n",
    "                data=churn_data,\n",
    "                kind=\"count\", height=5, aspect=.8, \n",
    "                palette='tab20',)\n",
    "plt.show()"
   ]
  },
  {
   "cell_type": "markdown",
   "id": "b1607c0e",
   "metadata": {},
   "source": [
    "Из графика выше мы видим, что местоположение пользователей не влияет на отток клиентов, т.е. для всех зон соотношение ушедших и оставшихся пользователей одинаковый. \n",
    "\n",
    "Для более детального анализа нужно посмореть на отток пользователей в штатах."
   ]
  },
  {
   "cell_type": "code",
   "execution_count": 13,
   "id": "c9cefc45",
   "metadata": {},
   "outputs": [],
   "source": [
    "# # Для того, чтобы отобразить диаграмму для каждого штата. В данном случае на одной картинке будут все графики для каждого штата\n",
    "\n",
    "# labels = [\"Остались\", \"Ушли\"]\n",
    "# states = churn_data[\"Штат\"].unique()\n",
    "# print(values[0])\n",
    "# fig, ax = plt.subplots(nrows=5, ncols=10, figsize=(100, 100))\n",
    "\n",
    "# for state in range(len(values) - 1):\n",
    "#     values = churn_data.groupby([\"Штат\", \"Уход\"]).size()[states[state]].values\n",
    "#     ax[0, 0].pie(values, labels=labels,  autopct='%1.2f%%')\n",
    "#     ax[0, 1].pie(values)\n",
    "#     break"
   ]
  },
  {
   "cell_type": "code",
   "execution_count": 37,
   "id": "08e35487",
   "metadata": {
    "scrolled": false
   },
   "outputs": [
    {
     "data": {
      "text/html": [
       "<div>\n",
       "<style scoped>\n",
       "    .dataframe tbody tr th:only-of-type {\n",
       "        vertical-align: middle;\n",
       "    }\n",
       "\n",
       "    .dataframe tbody tr th {\n",
       "        vertical-align: top;\n",
       "    }\n",
       "\n",
       "    .dataframe thead th {\n",
       "        text-align: right;\n",
       "    }\n",
       "</style>\n",
       "<table border=\"1\" class=\"dataframe\">\n",
       "  <thead>\n",
       "    <tr style=\"text-align: right;\">\n",
       "      <th></th>\n",
       "      <th>Штат</th>\n",
       "      <th>Ушли</th>\n",
       "    </tr>\n",
       "  </thead>\n",
       "  <tbody>\n",
       "    <tr>\n",
       "      <th>0</th>\n",
       "      <td>AK</td>\n",
       "      <td>3</td>\n",
       "    </tr>\n",
       "    <tr>\n",
       "      <th>1</th>\n",
       "      <td>AL</td>\n",
       "      <td>8</td>\n",
       "    </tr>\n",
       "    <tr>\n",
       "      <th>2</th>\n",
       "      <td>AR</td>\n",
       "      <td>11</td>\n",
       "    </tr>\n",
       "    <tr>\n",
       "      <th>3</th>\n",
       "      <td>AZ</td>\n",
       "      <td>4</td>\n",
       "    </tr>\n",
       "    <tr>\n",
       "      <th>4</th>\n",
       "      <td>CA</td>\n",
       "      <td>9</td>\n",
       "    </tr>\n",
       "  </tbody>\n",
       "</table>\n",
       "</div>"
      ],
      "text/plain": [
       "  Штат  Ушли\n",
       "0   AK     3\n",
       "1   AL     8\n",
       "2   AR    11\n",
       "3   AZ     4\n",
       "4   CA     9"
      ]
     },
     "execution_count": 37,
     "metadata": {},
     "output_type": "execute_result"
    }
   ],
   "source": [
    "# Посмотрим, какое количество пользователей ушло и осталось в каждом штате\n",
    "is_gone = churn_data[churn_data[\"Уход\"] == True].groupby(\"Штат\").size().to_frame().reset_index().rename(columns={0: \"Ушли\"})\n",
    "not_gone = churn_data[churn_data[\"Уход\"] == False].groupby(\"Штат\").size().to_frame().reset_index().rename(columns={0: \"Остались\"})\n",
    "\n",
    "is_gone.head()"
   ]
  },
  {
   "cell_type": "code",
   "execution_count": 38,
   "id": "84a5e5ea",
   "metadata": {
    "scrolled": false
   },
   "outputs": [
    {
     "data": {
      "text/html": [
       "<div>\n",
       "<style scoped>\n",
       "    .dataframe tbody tr th:only-of-type {\n",
       "        vertical-align: middle;\n",
       "    }\n",
       "\n",
       "    .dataframe tbody tr th {\n",
       "        vertical-align: top;\n",
       "    }\n",
       "\n",
       "    .dataframe thead th {\n",
       "        text-align: right;\n",
       "    }\n",
       "</style>\n",
       "<table border=\"1\" class=\"dataframe\">\n",
       "  <thead>\n",
       "    <tr style=\"text-align: right;\">\n",
       "      <th></th>\n",
       "      <th>Штат</th>\n",
       "      <th>Остались</th>\n",
       "    </tr>\n",
       "  </thead>\n",
       "  <tbody>\n",
       "    <tr>\n",
       "      <th>0</th>\n",
       "      <td>AK</td>\n",
       "      <td>49</td>\n",
       "    </tr>\n",
       "    <tr>\n",
       "      <th>1</th>\n",
       "      <td>AL</td>\n",
       "      <td>72</td>\n",
       "    </tr>\n",
       "    <tr>\n",
       "      <th>2</th>\n",
       "      <td>AR</td>\n",
       "      <td>44</td>\n",
       "    </tr>\n",
       "    <tr>\n",
       "      <th>3</th>\n",
       "      <td>AZ</td>\n",
       "      <td>60</td>\n",
       "    </tr>\n",
       "    <tr>\n",
       "      <th>4</th>\n",
       "      <td>CA</td>\n",
       "      <td>25</td>\n",
       "    </tr>\n",
       "  </tbody>\n",
       "</table>\n",
       "</div>"
      ],
      "text/plain": [
       "  Штат  Остались\n",
       "0   AK        49\n",
       "1   AL        72\n",
       "2   AR        44\n",
       "3   AZ        60\n",
       "4   CA        25"
      ]
     },
     "execution_count": 38,
     "metadata": {},
     "output_type": "execute_result"
    }
   ],
   "source": [
    "not_gone.head()"
   ]
  },
  {
   "cell_type": "code",
   "execution_count": 40,
   "id": "baa2f445",
   "metadata": {},
   "outputs": [
    {
     "data": {
      "text/html": [
       "<div>\n",
       "<style scoped>\n",
       "    .dataframe tbody tr th:only-of-type {\n",
       "        vertical-align: middle;\n",
       "    }\n",
       "\n",
       "    .dataframe tbody tr th {\n",
       "        vertical-align: top;\n",
       "    }\n",
       "\n",
       "    .dataframe thead th {\n",
       "        text-align: right;\n",
       "    }\n",
       "</style>\n",
       "<table border=\"1\" class=\"dataframe\">\n",
       "  <thead>\n",
       "    <tr style=\"text-align: right;\">\n",
       "      <th></th>\n",
       "      <th>Штат</th>\n",
       "      <th>Ушли</th>\n",
       "      <th>Остались</th>\n",
       "    </tr>\n",
       "  </thead>\n",
       "  <tbody>\n",
       "    <tr>\n",
       "      <th>0</th>\n",
       "      <td>AK</td>\n",
       "      <td>3</td>\n",
       "      <td>49</td>\n",
       "    </tr>\n",
       "    <tr>\n",
       "      <th>1</th>\n",
       "      <td>AL</td>\n",
       "      <td>8</td>\n",
       "      <td>72</td>\n",
       "    </tr>\n",
       "    <tr>\n",
       "      <th>2</th>\n",
       "      <td>AR</td>\n",
       "      <td>11</td>\n",
       "      <td>44</td>\n",
       "    </tr>\n",
       "    <tr>\n",
       "      <th>3</th>\n",
       "      <td>AZ</td>\n",
       "      <td>4</td>\n",
       "      <td>60</td>\n",
       "    </tr>\n",
       "    <tr>\n",
       "      <th>4</th>\n",
       "      <td>CA</td>\n",
       "      <td>9</td>\n",
       "      <td>25</td>\n",
       "    </tr>\n",
       "  </tbody>\n",
       "</table>\n",
       "</div>"
      ],
      "text/plain": [
       "  Штат  Ушли  Остались\n",
       "0   AK     3        49\n",
       "1   AL     8        72\n",
       "2   AR    11        44\n",
       "3   AZ     4        60\n",
       "4   CA     9        25"
      ]
     },
     "execution_count": 40,
     "metadata": {},
     "output_type": "execute_result"
    }
   ],
   "source": [
    "states = is_gone.merge(not_gone, how=\"left\", on=\"Штат\")\n",
    "states.head()"
   ]
  },
  {
   "cell_type": "code",
   "execution_count": 50,
   "id": "7b6f57bc",
   "metadata": {},
   "outputs": [
    {
     "data": {
      "text/html": [
       "<div>\n",
       "<style scoped>\n",
       "    .dataframe tbody tr th:only-of-type {\n",
       "        vertical-align: middle;\n",
       "    }\n",
       "\n",
       "    .dataframe tbody tr th {\n",
       "        vertical-align: top;\n",
       "    }\n",
       "\n",
       "    .dataframe thead th {\n",
       "        text-align: right;\n",
       "    }\n",
       "</style>\n",
       "<table border=\"1\" class=\"dataframe\">\n",
       "  <thead>\n",
       "    <tr style=\"text-align: right;\">\n",
       "      <th></th>\n",
       "      <th>Штат</th>\n",
       "      <th>Ушли</th>\n",
       "      <th>Остались</th>\n",
       "      <th>Процент оставшихся</th>\n",
       "      <th>Процент ушедших</th>\n",
       "    </tr>\n",
       "  </thead>\n",
       "  <tbody>\n",
       "    <tr>\n",
       "      <th>11</th>\n",
       "      <td>HI</td>\n",
       "      <td>3</td>\n",
       "      <td>50</td>\n",
       "      <td>94.34</td>\n",
       "      <td>5.66</td>\n",
       "    </tr>\n",
       "    <tr>\n",
       "      <th>0</th>\n",
       "      <td>AK</td>\n",
       "      <td>3</td>\n",
       "      <td>49</td>\n",
       "      <td>94.23</td>\n",
       "      <td>5.77</td>\n",
       "    </tr>\n",
       "    <tr>\n",
       "      <th>3</th>\n",
       "      <td>AZ</td>\n",
       "      <td>4</td>\n",
       "      <td>60</td>\n",
       "      <td>93.75</td>\n",
       "      <td>6.25</td>\n",
       "    </tr>\n",
       "    <tr>\n",
       "      <th>45</th>\n",
       "      <td>VA</td>\n",
       "      <td>5</td>\n",
       "      <td>72</td>\n",
       "      <td>93.51</td>\n",
       "      <td>6.49</td>\n",
       "    </tr>\n",
       "    <tr>\n",
       "      <th>12</th>\n",
       "      <td>IA</td>\n",
       "      <td>3</td>\n",
       "      <td>41</td>\n",
       "      <td>93.18</td>\n",
       "      <td>6.82</td>\n",
       "    </tr>\n",
       "  </tbody>\n",
       "</table>\n",
       "</div>"
      ],
      "text/plain": [
       "   Штат  Ушли  Остались  Процент оставшихся  Процент ушедших\n",
       "11   HI     3        50               94.34             5.66\n",
       "0    AK     3        49               94.23             5.77\n",
       "3    AZ     4        60               93.75             6.25\n",
       "45   VA     5        72               93.51             6.49\n",
       "12   IA     3        41               93.18             6.82"
      ]
     },
     "execution_count": 50,
     "metadata": {},
     "output_type": "execute_result"
    }
   ],
   "source": [
    "states[\"Процент оставшихся\"] = (states[\"Остались\"] / (states[\"Остались\"] + states[\"Ушли\"]) * 100).round(2)\n",
    "states[\"Процент ушедших\"] = 100 - states[\"Процент оставшихся\"]\n",
    "states.sort_values(\"Процент оставшихся\", inplace=True, ascending=False)\n",
    "states.head()"
   ]
  },
  {
   "cell_type": "code",
   "execution_count": 51,
   "id": "87f6fe13",
   "metadata": {},
   "outputs": [
    {
     "data": {
      "text/html": [
       "<div>\n",
       "<style scoped>\n",
       "    .dataframe tbody tr th:only-of-type {\n",
       "        vertical-align: middle;\n",
       "    }\n",
       "\n",
       "    .dataframe tbody tr th {\n",
       "        vertical-align: top;\n",
       "    }\n",
       "\n",
       "    .dataframe thead th {\n",
       "        text-align: right;\n",
       "    }\n",
       "</style>\n",
       "<table border=\"1\" class=\"dataframe\">\n",
       "  <thead>\n",
       "    <tr style=\"text-align: right;\">\n",
       "      <th></th>\n",
       "      <th>Штат</th>\n",
       "      <th>Ушли</th>\n",
       "      <th>Остались</th>\n",
       "      <th>Процент оставшихся</th>\n",
       "      <th>Процент ушедших</th>\n",
       "    </tr>\n",
       "  </thead>\n",
       "  <tbody>\n",
       "    <tr>\n",
       "      <th>40</th>\n",
       "      <td>SC</td>\n",
       "      <td>14</td>\n",
       "      <td>46</td>\n",
       "      <td>76.67</td>\n",
       "      <td>23.33</td>\n",
       "    </tr>\n",
       "    <tr>\n",
       "      <th>20</th>\n",
       "      <td>MD</td>\n",
       "      <td>17</td>\n",
       "      <td>53</td>\n",
       "      <td>75.71</td>\n",
       "      <td>24.29</td>\n",
       "    </tr>\n",
       "    <tr>\n",
       "      <th>43</th>\n",
       "      <td>TX</td>\n",
       "      <td>18</td>\n",
       "      <td>54</td>\n",
       "      <td>75.00</td>\n",
       "      <td>25.00</td>\n",
       "    </tr>\n",
       "    <tr>\n",
       "      <th>4</th>\n",
       "      <td>CA</td>\n",
       "      <td>9</td>\n",
       "      <td>25</td>\n",
       "      <td>73.53</td>\n",
       "      <td>26.47</td>\n",
       "    </tr>\n",
       "    <tr>\n",
       "      <th>31</th>\n",
       "      <td>NJ</td>\n",
       "      <td>18</td>\n",
       "      <td>50</td>\n",
       "      <td>73.53</td>\n",
       "      <td>26.47</td>\n",
       "    </tr>\n",
       "  </tbody>\n",
       "</table>\n",
       "</div>"
      ],
      "text/plain": [
       "   Штат  Ушли  Остались  Процент оставшихся  Процент ушедших\n",
       "40   SC    14        46               76.67            23.33\n",
       "20   MD    17        53               75.71            24.29\n",
       "43   TX    18        54               75.00            25.00\n",
       "4    CA     9        25               73.53            26.47\n",
       "31   NJ    18        50               73.53            26.47"
      ]
     },
     "execution_count": 51,
     "metadata": {},
     "output_type": "execute_result"
    }
   ],
   "source": [
    "states.tail()"
   ]
  },
  {
   "cell_type": "code",
   "execution_count": 74,
   "id": "b422c0d3",
   "metadata": {},
   "outputs": [
    {
     "data": {
      "text/html": [
       "<div>\n",
       "<style scoped>\n",
       "    .dataframe tbody tr th:only-of-type {\n",
       "        vertical-align: middle;\n",
       "    }\n",
       "\n",
       "    .dataframe tbody tr th {\n",
       "        vertical-align: top;\n",
       "    }\n",
       "\n",
       "    .dataframe thead th {\n",
       "        text-align: right;\n",
       "    }\n",
       "</style>\n",
       "<table border=\"1\" class=\"dataframe\">\n",
       "  <thead>\n",
       "    <tr style=\"text-align: right;\">\n",
       "      <th></th>\n",
       "      <th>Штат</th>\n",
       "      <th>Обращений в СЦ</th>\n",
       "    </tr>\n",
       "  </thead>\n",
       "  <tbody>\n",
       "    <tr>\n",
       "      <th>0</th>\n",
       "      <td>WV</td>\n",
       "      <td>159</td>\n",
       "    </tr>\n",
       "    <tr>\n",
       "      <th>1</th>\n",
       "      <td>NY</td>\n",
       "      <td>142</td>\n",
       "    </tr>\n",
       "    <tr>\n",
       "      <th>2</th>\n",
       "      <td>OR</td>\n",
       "      <td>135</td>\n",
       "    </tr>\n",
       "    <tr>\n",
       "      <th>3</th>\n",
       "      <td>MN</td>\n",
       "      <td>130</td>\n",
       "    </tr>\n",
       "    <tr>\n",
       "      <th>4</th>\n",
       "      <td>VT</td>\n",
       "      <td>127</td>\n",
       "    </tr>\n",
       "  </tbody>\n",
       "</table>\n",
       "</div>"
      ],
      "text/plain": [
       "  Штат  Обращений в СЦ\n",
       "0   WV             159\n",
       "1   NY             142\n",
       "2   OR             135\n",
       "3   MN             130\n",
       "4   VT             127"
      ]
     },
     "execution_count": 74,
     "metadata": {},
     "output_type": "execute_result"
    }
   ],
   "source": [
    "# Посмотрим, на количество обращений в сервисный центр по штатам\n",
    "churn_data.groupby([\"Штат\"])[\"Обращений в СЦ\"].sum().sort_values(ascending=False).to_frame().reset_index().head()"
   ]
  },
  {
   "cell_type": "code",
   "execution_count": 76,
   "id": "25dbf737",
   "metadata": {},
   "outputs": [
    {
     "data": {
      "text/html": [
       "<div>\n",
       "<style scoped>\n",
       "    .dataframe tbody tr th:only-of-type {\n",
       "        vertical-align: middle;\n",
       "    }\n",
       "\n",
       "    .dataframe tbody tr th {\n",
       "        vertical-align: top;\n",
       "    }\n",
       "\n",
       "    .dataframe thead th {\n",
       "        text-align: right;\n",
       "    }\n",
       "</style>\n",
       "<table border=\"1\" class=\"dataframe\">\n",
       "  <thead>\n",
       "    <tr style=\"text-align: right;\">\n",
       "      <th></th>\n",
       "      <th>Штат</th>\n",
       "      <th>Ушли</th>\n",
       "      <th>Остались</th>\n",
       "      <th>Процент оставшихся</th>\n",
       "      <th>Процент ушедших</th>\n",
       "      <th>Обращений в СЦ</th>\n",
       "    </tr>\n",
       "  </thead>\n",
       "  <tbody>\n",
       "    <tr>\n",
       "      <th>0</th>\n",
       "      <td>HI</td>\n",
       "      <td>3</td>\n",
       "      <td>50</td>\n",
       "      <td>94.34</td>\n",
       "      <td>5.66</td>\n",
       "      <td>82</td>\n",
       "    </tr>\n",
       "    <tr>\n",
       "      <th>1</th>\n",
       "      <td>AK</td>\n",
       "      <td>3</td>\n",
       "      <td>49</td>\n",
       "      <td>94.23</td>\n",
       "      <td>5.77</td>\n",
       "      <td>81</td>\n",
       "    </tr>\n",
       "    <tr>\n",
       "      <th>2</th>\n",
       "      <td>AZ</td>\n",
       "      <td>4</td>\n",
       "      <td>60</td>\n",
       "      <td>93.75</td>\n",
       "      <td>6.25</td>\n",
       "      <td>102</td>\n",
       "    </tr>\n",
       "    <tr>\n",
       "      <th>3</th>\n",
       "      <td>VA</td>\n",
       "      <td>5</td>\n",
       "      <td>72</td>\n",
       "      <td>93.51</td>\n",
       "      <td>6.49</td>\n",
       "      <td>123</td>\n",
       "    </tr>\n",
       "    <tr>\n",
       "      <th>4</th>\n",
       "      <td>IA</td>\n",
       "      <td>3</td>\n",
       "      <td>41</td>\n",
       "      <td>93.18</td>\n",
       "      <td>6.82</td>\n",
       "      <td>70</td>\n",
       "    </tr>\n",
       "  </tbody>\n",
       "</table>\n",
       "</div>"
      ],
      "text/plain": [
       "  Штат  Ушли  Остались  Процент оставшихся  Процент ушедших  Обращений в СЦ\n",
       "0   HI     3        50               94.34             5.66              82\n",
       "1   AK     3        49               94.23             5.77              81\n",
       "2   AZ     4        60               93.75             6.25             102\n",
       "3   VA     5        72               93.51             6.49             123\n",
       "4   IA     3        41               93.18             6.82              70"
      ]
     },
     "execution_count": 76,
     "metadata": {},
     "output_type": "execute_result"
    }
   ],
   "source": [
    "states = states.merge(churn_data.groupby([\"Штат\"])[\"Обращений в СЦ\"].sum().sort_values(ascending=False), how=\"left\", on=\"Штат\")\n",
    "states.head()"
   ]
  },
  {
   "cell_type": "code",
   "execution_count": 79,
   "id": "3a5cb029",
   "metadata": {},
   "outputs": [
    {
     "data": {
      "text/plain": [
       "-0.13146749215135117"
      ]
     },
     "execution_count": 79,
     "metadata": {},
     "output_type": "execute_result"
    }
   ],
   "source": [
    "# Посмотрим, есть ли взаимосвязть между количеством оставшихся пользователей и количеством обращений в СЦ по штатам\n",
    "states[\"Процент оставшихся\"].corr(states[\"Обращений в СЦ\"])"
   ]
  },
  {
   "cell_type": "markdown",
   "id": "461f1f0d",
   "metadata": {},
   "source": [
    "**По значению коэф. корреляции можно сказать, что две величины имеют слабую взаимосвязь с друг другом**"
   ]
  },
  {
   "cell_type": "code",
   "execution_count": null,
   "id": "a3c39414",
   "metadata": {},
   "outputs": [],
   "source": []
  }
 ],
 "metadata": {
  "kernelspec": {
   "display_name": "Python 3 (ipykernel)",
   "language": "python",
   "name": "python3"
  },
  "language_info": {
   "codemirror_mode": {
    "name": "ipython",
    "version": 3
   },
   "file_extension": ".py",
   "mimetype": "text/x-python",
   "name": "python",
   "nbconvert_exporter": "python",
   "pygments_lexer": "ipython3",
   "version": "3.9.12"
  }
 },
 "nbformat": 4,
 "nbformat_minor": 5
}
